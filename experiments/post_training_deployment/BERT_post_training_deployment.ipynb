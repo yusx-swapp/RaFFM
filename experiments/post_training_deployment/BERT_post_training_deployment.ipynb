{
 "cells": [
  {
   "cell_type": "markdown",
   "id": "85a7b09f",
   "metadata": {},
   "source": [
    "# Post-federated learning scalable foundation model deployment\n",
    "In this tutorial we will show you one of the key contribution of RaFFM:\n",
    "\n",
    "**Quickly get a resource-aware FM from RaFFM without additional training**\n",
    "\n",
    "\n",
    "This is very important in FL, that means for a newly join client with resource constraint, RaFFM can quickly deploy a high-performance model to it without additional training\n",
    "\n",
    "This Tutorial covers how to use the RaFFM APIs, if you want to quickly check the experiments, jump to [Experiment Results](post_training_deployment.ipynb#experiment) at the end of the notebook.\n",
    "\n"
   ]
  },
  {
   "cell_type": "markdown",
   "metadata": {},
   "source": [
    "## Step 1: import dependency libary"
   ]
  },
  {
   "cell_type": "code",
   "execution_count": 1,
   "id": "deebb429",
   "metadata": {},
   "outputs": [
    {
     "name": "stderr",
     "output_type": "stream",
     "text": [
      "/export/work/yusx/miniconda3/envs/raffm/lib/python3.10/site-packages/tqdm/auto.py:21: TqdmWarning: IProgress not found. Please update jupyter and ipywidgets. See https://ipywidgets.readthedocs.io/en/stable/user_install.html\n",
      "  from .autonotebook import tqdm as notebook_tqdm\n"
     ]
    }
   ],
   "source": [
    "import numpy as np\n",
    "from datasets import load_metric\n",
    "from transformers import BertForSequenceClassification, BertTokenizerFast, TrainingArguments, Trainer\n",
    "from datasets import load_dataset\n",
    "from raffm import RaFFM\n",
    "import torch\n",
    "import os\n"
   ]
  },
  {
   "cell_type": "markdown",
   "metadata": {},
   "source": [
    "Define a utility function to calculate number of parameters in a model"
   ]
  },
  {
   "cell_type": "code",
   "execution_count": 2,
   "metadata": {},
   "outputs": [],
   "source": [
    "from torch.nn import Parameter\n",
    "\n",
    "def calculate_params(model):\n",
    "    \"\"\"calculate the number of parameters in the model\n",
    "    Args:\n",
    "        model: the model to be evaluated\n",
    "    Returns:\n",
    "        total_params: the number of parameters in the model\n",
    "        percentage: the percentage of trainable parameters in the model\n",
    "    \"\"\"\n",
    "\n",
    "    millions = 1000000\n",
    "    total_params = 0\n",
    "    for name, module in model.named_modules():\n",
    "        if hasattr(module, \"weight\") and isinstance(module.weight, Parameter):\n",
    "            total_params += torch.prod(torch.tensor(module.weight.size())).item()\n",
    "\n",
    "    return total_params / millions\n"
   ]
  },
  {
   "cell_type": "markdown",
   "id": "c35d7cee",
   "metadata": {},
   "source": [
    "## Step 3. Load dataset and pre-process\n",
    "First define the dataset process function for datasets from [huggingface datasets API](https://huggingface.co/)"
   ]
  },
  {
   "cell_type": "code",
   "execution_count": 3,
   "metadata": {},
   "outputs": [],
   "source": [
    "def tokenize_function(examples, tokenizer):\n",
    "    if \"sentence\" in examples.keys() and \"question\" not in examples.keys():\n",
    "        return tokenizer(\n",
    "            examples[\"sentence\"],\n",
    "            padding=\"max_length\",\n",
    "            truncation=True,\n",
    "            return_tensors=\"pt\",\n",
    "        )\n",
    "    elif \"premise\" in examples.keys() and \"hypothesis\" in examples.keys():\n",
    "        return tokenizer(\n",
    "            examples[\"premise\"],\n",
    "            examples[\"hypothesis\"],\n",
    "            padding=\"max_length\",\n",
    "            truncation=True,\n",
    "            return_tensors=\"pt\",\n",
    "        )\n",
    "    elif \"question1\" in examples.keys() and \"question2\" in examples.keys():\n",
    "        return tokenizer(\n",
    "            examples[\"question1\"],\n",
    "            examples[\"question2\"],\n",
    "            padding=\"max_length\",\n",
    "            truncation=True,\n",
    "            return_tensors=\"pt\",\n",
    "        )\n",
    "    elif \"question\" in examples.keys() and \"sentence\" in examples.keys():\n",
    "        return tokenizer(\n",
    "            examples[\"question\"],\n",
    "            examples[\"sentence\"],\n",
    "            padding=\"max_length\",\n",
    "            truncation=True,\n",
    "            return_tensors=\"pt\",\n",
    "        )\n",
    "    elif \"sentence1\" in examples.keys() and \"sentence2\" in examples.keys():\n",
    "        return tokenizer(\n",
    "            examples[\"sentence1\"],\n",
    "            examples[\"sentence2\"],\n",
    "            padding=\"max_length\",\n",
    "            truncation=True,\n",
    "            return_tensors=\"pt\",\n",
    "        )\n",
    "\n",
    "tokenizer = BertTokenizerFast.from_pretrained(\"bert-base-uncased\")\n"
   ]
  },
  {
   "cell_type": "markdown",
   "metadata": {},
   "source": [
    "Then load and preprocess the datapoints from images to torch tensors"
   ]
  },
  {
   "cell_type": "code",
   "execution_count": 4,
   "id": "02d9f03d",
   "metadata": {},
   "outputs": [],
   "source": [
    "dataset = load_dataset(\"glue\", \"sst2\")\n",
    "train_dataset = dataset[\"train\"]\n",
    "val_dataset = dataset[\"validation\"]\n",
    "tokenize_val_dataset = val_dataset.map(\n",
    "    lambda examples: tokenize_function(examples, tokenizer),\n",
    "    batched=True,\n",
    ")\n"
   ]
  },
  {
   "cell_type": "markdown",
   "metadata": {},
   "source": [
    "Check the dataset status"
   ]
  },
  {
   "cell_type": "code",
   "execution_count": 5,
   "id": "549e0e3c",
   "metadata": {},
   "outputs": [
    {
     "data": {
      "text/plain": [
       "Dataset({\n",
       "    features: ['sentence', 'label', 'idx', 'input_ids', 'token_type_ids', 'attention_mask'],\n",
       "    num_rows: 872\n",
       "})"
      ]
     },
     "execution_count": 5,
     "metadata": {},
     "output_type": "execute_result"
    }
   ],
   "source": [
    "\n",
    "tokenize_val_dataset\n"
   ]
  },
  {
   "cell_type": "markdown",
   "id": "b4c53e41",
   "metadata": {},
   "source": [
    "## Step 3. Initialize a FM\n",
    "Here we first initialize a Vision Transformer (ViT), and later we will load the scalable ViT (FM) checkpoints trained by RaFFM"
   ]
  },
  {
   "cell_type": "code",
   "execution_count": 6,
   "id": "f5f9412c",
   "metadata": {},
   "outputs": [
    {
     "name": "stderr",
     "output_type": "stream",
     "text": [
      "Some weights of BertForSequenceClassification were not initialized from the model checkpoint at bert-base-uncased and are newly initialized: ['classifier.weight', 'classifier.bias']\n",
      "You should probably TRAIN this model on a down-stream task to be able to use it for predictions and inference.\n"
     ]
    }
   ],
   "source": [
    "model_name = \"bert-base-uncased\"\n",
    "tokenizer = BertTokenizerFast.from_pretrained(model_name)\n",
    "model = BertForSequenceClassification.from_pretrained(\n",
    "    model_name, num_labels=2\n",
    ")"
   ]
  },
  {
   "cell_type": "markdown",
   "id": "dc5218ee",
   "metadata": {},
   "source": [
    "## Step 3. Download scalable FM checkpoints\n",
    "You can find the ckpts in [README.MD](./README.MD), we provide the Scalable FM checkpoints trained by RaFFM in various FL-edge budget settings.\n",
    "\n",
    "In this example, we use the scalable FM checkpoints downloaded from **[here](./README.MD/#download-the-scalable-fm-checkpoints)**\n"
   ]
  },
  {
   "cell_type": "markdown",
   "metadata": {},
   "source": [
    "## Step 4. Load scalable FM checkpoint\n",
    "\n",
    "Next we load the scalable FMs weights trained by RaFFM, and convert it to a RaFFM scalable network"
   ]
  },
  {
   "cell_type": "code",
   "execution_count": 7,
   "id": "4f4370c1",
   "metadata": {},
   "outputs": [
    {
     "name": "stdout",
     "output_type": "stream",
     "text": [
      "Original FM number of parameters: 109.380864\n"
     ]
    }
   ],
   "source": [
    "ckpt_path = \"the_downloaded_ckpt_path\"\n",
    "\n",
    "elastic_config = os.path.join( ckpt_path,\"elastic_space.json\")\n",
    "model = model.from_pretrained(ckpt_path)\n",
    "\n",
    "raffm_model = RaFFM(model.to(\"cpu\"),elastic_config)\n",
    "print(\"Original FM number of parameters:\",raffm_model.total_params)"
   ]
  },
  {
   "cell_type": "markdown",
   "metadata": {},
   "source": [
    "# Experiment"
   ]
  },
  {
   "cell_type": "markdown",
   "id": "6f64b133",
   "metadata": {},
   "source": [
    "## Sample a scaled FM "
   ]
  },
  {
   "cell_type": "code",
   "execution_count": 8,
   "id": "e3e057bf",
   "metadata": {},
   "outputs": [
    {
     "name": "stdout",
     "output_type": "stream",
     "text": [
      "scaled model params 74.163456\n"
     ]
    }
   ],
   "source": [
    "scaled_model,_,_ = raffm_model.random_resource_aware_model()\n",
    "params = calculate_params(scaled_model)\n",
    "print(\"scaled model params\",params)"
   ]
  },
  {
   "cell_type": "markdown",
   "id": "b937850d",
   "metadata": {},
   "source": [
    "# Evaluate the sampled scaled FM"
   ]
  },
  {
   "cell_type": "code",
   "execution_count": 9,
   "id": "e6175920",
   "metadata": {},
   "outputs": [],
   "source": [
    "from sklearn.metrics import accuracy_score, matthews_corrcoef\n",
    "def compute_metrics(eval_pred):\n",
    "    predictions, labels = eval_pred\n",
    "    predictions = predictions.argmax(-1)\n",
    "    return {\"accuracy\": accuracy_score(labels, predictions)}\n"
   ]
  },
  {
   "cell_type": "code",
   "execution_count": 10,
   "id": "288843d3",
   "metadata": {},
   "outputs": [
    {
     "name": "stderr",
     "output_type": "stream",
     "text": [
      "Detected kernel version 5.4.0, which is below the recommended minimum of 5.5.0; this can cause the process to hang. It is recommended to upgrade the kernel to the minimum version or higher.\n"
     ]
    }
   ],
   "source": [
    "\n",
    "training_args = TrainingArguments(\n",
    "    output_dir=\"./log/debug\",\n",
    "    per_device_train_batch_size=16,\n",
    "    per_device_eval_batch_size=16,\n",
    "    evaluation_strategy=\"no\",\n",
    "    save_strategy=\"no\",\n",
    "    learning_rate=2e-4,\n",
    "    num_train_epochs=1,\n",
    "    weight_decay=0.01,\n",
    "    report_to=\"none\",\n",
    ")\n",
    "\n",
    "trainer = Trainer(\n",
    "    model=scaled_model,\n",
    "    args=training_args,\n",
    "    compute_metrics=compute_metrics,\n",
    "    train_dataset=train_dataset,\n",
    "    eval_dataset=tokenize_val_dataset,\n",
    "    # tokenizer=processor,\n",
    ")\n",
    "\n"
   ]
  },
  {
   "cell_type": "code",
   "execution_count": 11,
   "id": "608749cc-617f-4542-9d5b-7244340de907",
   "metadata": {
    "tags": []
   },
   "outputs": [
    {
     "data": {
      "text/html": [
       "\n",
       "    <div>\n",
       "      \n",
       "      <progress value='55' max='55' style='width:300px; height:20px; vertical-align: middle;'></progress>\n",
       "      [55/55 02:30]\n",
       "    </div>\n",
       "    "
      ],
      "text/plain": [
       "<IPython.core.display.HTML object>"
      ]
     },
     "metadata": {},
     "output_type": "display_data"
    }
   ],
   "source": [
    "metrics = trainer.evaluate()"
   ]
  },
  {
   "cell_type": "markdown",
   "id": "b202b7dd",
   "metadata": {},
   "source": [
    "We get **80.73%** accuracy from the scaled FM, **without further training**!"
   ]
  },
  {
   "cell_type": "code",
   "execution_count": 12,
   "id": "5df36eff-5c2c-4095-a4ac-ef4a3a6cf62b",
   "metadata": {},
   "outputs": [
    {
     "name": "stdout",
     "output_type": "stream",
     "text": [
      "***** eval metrics *****\n",
      "  eval_accuracy           =     0.8073\n",
      "  eval_loss               =     0.5404\n",
      "  eval_runtime            = 0:02:33.39\n",
      "  eval_samples_per_second =      5.685\n",
      "  eval_steps_per_second   =      0.359\n"
     ]
    }
   ],
   "source": [
    "trainer.log_metrics(\"eval\", metrics)\n",
    "trainer.save_metrics(\"eval\", metrics)"
   ]
  },
  {
   "cell_type": "markdown",
   "id": "10d9dcf0",
   "metadata": {},
   "source": [
    "## Sample another scaled FMs and evaluation\n",
    "You can sample as much as possible scaled from RaFFM model"
   ]
  },
  {
   "cell_type": "code",
   "execution_count": 13,
   "id": "9832265e-5362-4d8d-bf7f-37ccc6053593",
   "metadata": {
    "tags": []
   },
   "outputs": [
    {
     "name": "stdout",
     "output_type": "stream",
     "text": [
      "scaled model params 66.618624\n"
     ]
    }
   ],
   "source": [
    "scaled_model,_,_ = raffm_model.sample_smallest_model()\n",
    "\n",
    "params = calculate_params(scaled_model)\n",
    "print(\"scaled model params\",params)"
   ]
  },
  {
   "cell_type": "code",
   "execution_count": 14,
   "id": "d1941ac0",
   "metadata": {},
   "outputs": [
    {
     "name": "stderr",
     "output_type": "stream",
     "text": [
      "Detected kernel version 5.4.0, which is below the recommended minimum of 5.5.0; this can cause the process to hang. It is recommended to upgrade the kernel to the minimum version or higher.\n"
     ]
    },
    {
     "data": {
      "text/html": [
       "\n",
       "    <div>\n",
       "      \n",
       "      <progress value='55' max='55' style='width:300px; height:20px; vertical-align: middle;'></progress>\n",
       "      [55/55 02:24]\n",
       "    </div>\n",
       "    "
      ],
      "text/plain": [
       "<IPython.core.display.HTML object>"
      ]
     },
     "metadata": {},
     "output_type": "display_data"
    }
   ],
   "source": [
    "\n",
    "trainer = Trainer(\n",
    "    model=scaled_model,\n",
    "    args=training_args,\n",
    "    compute_metrics=compute_metrics,\n",
    "    train_dataset=train_dataset,\n",
    "    eval_dataset=tokenize_val_dataset,\n",
    "    # tokenizer=processor,\n",
    ")\n",
    "metrics = trainer.evaluate()\n"
   ]
  },
  {
   "cell_type": "markdown",
   "id": "4aaa5929",
   "metadata": {},
   "source": [
    "In the second scaled FM we get **81.31%** Accuracy."
   ]
  },
  {
   "cell_type": "code",
   "execution_count": 15,
   "id": "a642cbb8",
   "metadata": {},
   "outputs": [
    {
     "name": "stdout",
     "output_type": "stream",
     "text": [
      "***** eval metrics *****\n",
      "  eval_accuracy           =     0.8131\n",
      "  eval_loss               =     0.4954\n",
      "  eval_runtime            = 0:02:27.59\n",
      "  eval_samples_per_second =      5.908\n",
      "  eval_steps_per_second   =      0.373\n"
     ]
    }
   ],
   "source": [
    "trainer.log_metrics(\"eval\", metrics)\n",
    "trainer.save_metrics(\"eval\", metrics)"
   ]
  },
  {
   "cell_type": "code",
   "execution_count": null,
   "metadata": {},
   "outputs": [],
   "source": []
  }
 ],
 "metadata": {
  "kernelspec": {
   "display_name": "fedlib",
   "language": "python",
   "name": "python3"
  },
  "language_info": {
   "codemirror_mode": {
    "name": "ipython",
    "version": 3
   },
   "file_extension": ".py",
   "mimetype": "text/x-python",
   "name": "python",
   "nbconvert_exporter": "python",
   "pygments_lexer": "ipython3",
   "version": "3.10.13"
  }
 },
 "nbformat": 4,
 "nbformat_minor": 5
}
