{
 "cells": [
  {
   "cell_type": "markdown",
   "id": "85a7b09f",
   "metadata": {},
   "source": [
    "# Post-federated learning scalable foundation model deployment\n",
    "In this tutorial we will show you one of the key contribution of RaFFM:\n",
    "\n",
    "**Quickly get a resource-aware FM from RaFFM without additional training**\n",
    "\n",
    "\n",
    "This is very important in FL, that means for a newly join client with resource constraint, RaFFM can quickly deploy a high-performance model to it without additional training\n",
    "\n",
    "This Tutorial covers how to use the RaFFM APIs, if you want to quickly check the experiments, jump to [Experiment Results](post_training_deployment.ipynb#experiment) at the end of the notebook."
   ]
  },
  {
   "cell_type": "markdown",
   "metadata": {},
   "source": [
    "## Step 1: import dependency libary"
   ]
  },
  {
   "cell_type": "code",
   "execution_count": null,
   "id": "deebb429",
   "metadata": {},
   "outputs": [],
   "source": [
    "import numpy as np\n",
    "from datasets import load_metric\n",
    "from transformers import ViTImageProcessor, ViTForImageClassification, TrainingArguments, Trainer\n",
    "from datasets import load_dataset\n",
    "from raffm import RaFFM\n",
    "import torch\n",
    "import os\n"
   ]
  },
  {
   "cell_type": "markdown",
   "metadata": {},
   "source": [
    "Define a utility function to calculate number of parameters in a model"
   ]
  },
  {
   "cell_type": "code",
   "execution_count": 2,
   "metadata": {},
   "outputs": [],
   "source": [
    "from torch.nn import Parameter\n",
    "\n",
    "def calculate_params(model):\n",
    "    \"\"\"calculate the number of parameters in the model\n",
    "    Args:\n",
    "        model: the model to be evaluated\n",
    "    Returns:\n",
    "        total_params: the number of parameters in the model\n",
    "        percentage: the percentage of trainable parameters in the model\n",
    "    \"\"\"\n",
    "\n",
    "    millions = 1000000\n",
    "    total_params = 0\n",
    "    for name, module in model.named_modules():\n",
    "        if hasattr(module, \"weight\") and isinstance(module.weight, Parameter):\n",
    "            total_params += torch.prod(torch.tensor(module.weight.size())).item()\n",
    "\n",
    "    return total_params / millions\n"
   ]
  },
  {
   "cell_type": "markdown",
   "id": "c35d7cee",
   "metadata": {},
   "source": [
    "## Step 3. Load dataset and pre-process\n",
    "First define the dataset process function for datasets from [huggingface datasets API](https://huggingface.co/)"
   ]
  },
  {
   "cell_type": "code",
   "execution_count": 3,
   "metadata": {},
   "outputs": [],
   "source": [
    "\n",
    "def collate_fn(batch):\n",
    "    return {\n",
    "        'pixel_values': torch.stack([x['pixel_values'] for x in batch]),\n",
    "        'labels': torch.tensor([x['labels'] for x in batch])\n",
    "    }\n",
    "    \n",
    "def transform(example_batch):\n",
    "    # Take a list of PIL images and turn them to pixel values\n",
    "    processor = ViTImageProcessor.from_pretrained(\"google/vit-base-patch16-224\")\n",
    "    inputs = processor([x for x in example_batch['img']], return_tensors='pt')\n",
    "\n",
    "    # Don't forget to include the labels!\n",
    "    inputs['labels'] = example_batch['label']\n",
    "    return inputs"
   ]
  },
  {
   "cell_type": "markdown",
   "metadata": {},
   "source": [
    "Then load and preprocess the datapoints from images to torch tensors"
   ]
  },
  {
   "cell_type": "code",
   "execution_count": 4,
   "id": "02d9f03d",
   "metadata": {},
   "outputs": [],
   "source": [
    "dataset = load_dataset('cifar10')\n",
    "train_val = dataset[\"train\"].train_test_split(test_size=0.2,seed=123)\n",
    "\n",
    "dataset['train'] = train_val[\"train\"]\n",
    "dataset[\"validation\"] = train_val[\"test\"]\n",
    "\n",
    "prepared_ds = dataset.with_transform(transform)\n"
   ]
  },
  {
   "cell_type": "markdown",
   "metadata": {},
   "source": [
    "Check the dataset status"
   ]
  },
  {
   "cell_type": "code",
   "execution_count": 5,
   "id": "549e0e3c",
   "metadata": {},
   "outputs": [
    {
     "data": {
      "text/plain": [
       "DatasetDict({\n",
       "    train: Dataset({\n",
       "        features: ['img', 'label'],\n",
       "        num_rows: 40000\n",
       "    })\n",
       "    test: Dataset({\n",
       "        features: ['img', 'label'],\n",
       "        num_rows: 10000\n",
       "    })\n",
       "    validation: Dataset({\n",
       "        features: ['img', 'label'],\n",
       "        num_rows: 10000\n",
       "    })\n",
       "})"
      ]
     },
     "execution_count": 5,
     "metadata": {},
     "output_type": "execute_result"
    }
   ],
   "source": [
    "\n",
    "prepared_ds\n"
   ]
  },
  {
   "cell_type": "markdown",
   "id": "b4c53e41",
   "metadata": {},
   "source": [
    "## Step 3. Initialize a FM\n",
    "Here we first initialize a Vision Transformer (ViT), and later we will load the scalable ViT (FM) checkpoints trained by RaFFM"
   ]
  },
  {
   "cell_type": "code",
   "execution_count": 6,
   "id": "f5f9412c",
   "metadata": {},
   "outputs": [
    {
     "name": "stderr",
     "output_type": "stream",
     "text": [
      "Some weights of ViTForImageClassification were not initialized from the model checkpoint at google/vit-base-patch16-224-in21k and are newly initialized: ['classifier.bias', 'classifier.weight']\n",
      "You should probably TRAIN this model on a down-stream task to be able to use it for predictions and inference.\n"
     ]
    }
   ],
   "source": [
    "ckpt_path = 'google/vit-base-patch16-224-in21k'\n",
    "labels = dataset['train'].features['label'].names\n",
    "\n",
    "model = ViTForImageClassification.from_pretrained(\n",
    "    ckpt_path,\n",
    "    num_labels=len(labels),\n",
    "    id2label={str(i): c for i, c in enumerate(labels)},\n",
    "    label2id={c: str(i) for i, c in enumerate(labels)}\n",
    ")"
   ]
  },
  {
   "cell_type": "markdown",
   "id": "dc5218ee",
   "metadata": {},
   "source": [
    "## Step 3. Download scalable FM checkpoints\n",
    "You can find the ckpts in [README.MD](./https://github.com/yusx-swapp/RaFFM/blob/47708fe75cdb432e805982fc73954fde1d6aa960/experiments/post_training_deployment/README.MD), we provide the Scalable FM checkpoints trained by RaFFM in various FL-edge budget settings.\n",
    "\n",
    "In this example, we use the scalable FM checkpoints downloaded from **[here](./https://github.com/yusx-swapp/RaFFM/blob/47708fe75cdb432e805982fc73954fde1d6aa960/experiments/post_training_deployment/README.MD/#download-the-scalable-fm-checkpoints)**\n"
   ]
  },
  {
   "cell_type": "markdown",
   "metadata": {},
   "source": [
    "## Step 4. Load scalable FM checkpoint\n",
    "\n",
    "Next we load the scalable FMs weights trained by RaFFM, and convert it to a RaFFM scalable network"
   ]
  },
  {
   "cell_type": "code",
   "execution_count": 7,
   "id": "4f4370c1",
   "metadata": {},
   "outputs": [
    {
     "name": "stdout",
     "output_type": "stream",
     "text": [
      "Original FM number of parameters: 85.55136\n"
     ]
    }
   ],
   "source": [
    "# ckpt_path = \"the_downloaded_ckpt_path\"\n",
    "ckpt_path = \"ckpt/cifar10/vit_base_small_budget\"\n",
    "elastic_config = os.path.join( ckpt_path,\"elastic_space.json\")\n",
    "model = model.from_pretrained(ckpt_path)\n",
    "\n",
    "raffm_model = RaFFM(model.to(\"cpu\"),elastic_config)\n",
    "print(\"Original FM number of parameters:\",raffm_model.total_params)"
   ]
  },
  {
   "cell_type": "markdown",
   "metadata": {},
   "source": [
    "# Experiment"
   ]
  },
  {
   "cell_type": "markdown",
   "id": "6f64b133",
   "metadata": {},
   "source": [
    "## Sample a scaled FM "
   ]
  },
  {
   "cell_type": "code",
   "execution_count": 8,
   "id": "e3e057bf",
   "metadata": {},
   "outputs": [
    {
     "name": "stdout",
     "output_type": "stream",
     "text": [
      "scaled model params 75.032832\n"
     ]
    }
   ],
   "source": [
    "scaled_model,_,_ = raffm_model.random_resource_aware_model()\n",
    "params = calculate_params(scaled_model)\n",
    "print(\"scaled model params\",params)"
   ]
  },
  {
   "cell_type": "markdown",
   "id": "b937850d",
   "metadata": {},
   "source": [
    "# Evaluate the sampled scaled FM"
   ]
  },
  {
   "cell_type": "code",
   "execution_count": 9,
   "id": "e6175920",
   "metadata": {},
   "outputs": [
    {
     "name": "stderr",
     "output_type": "stream",
     "text": [
      "/var/folders/zh/gvy12ppj68x8gylsv2b6yw400000gq/T/ipykernel_65627/4238580934.py:1: FutureWarning: load_metric is deprecated and will be removed in the next major version of datasets. Use 'evaluate.load' instead, from the new library 🤗 Evaluate: https://huggingface.co/docs/evaluate\n",
      "  metric = load_metric(\"accuracy\")\n"
     ]
    }
   ],
   "source": [
    "\n",
    "metric = load_metric(\"accuracy\")\n",
    "def compute_metrics(p):\n",
    "    return metric.compute(predictions=np.argmax(p.predictions, axis=1), references=p.label_ids)\n"
   ]
  },
  {
   "cell_type": "code",
   "execution_count": 10,
   "id": "288843d3",
   "metadata": {},
   "outputs": [],
   "source": [
    "training_args = TrainingArguments(\n",
    "  output_dir=\"./log/debug\",\n",
    "  per_device_train_batch_size=16,\n",
    "  evaluation_strategy=\"steps\",\n",
    "  num_train_epochs=4,\n",
    "  save_steps=100,\n",
    "  eval_steps=100,\n",
    "  logging_steps=10,\n",
    "  learning_rate=2e-4,\n",
    "  save_total_limit=2,\n",
    "  remove_unused_columns=False,\n",
    "  push_to_hub=False,\n",
    "  report_to='tensorboard',\n",
    "  load_best_model_at_end=True,\n",
    ")\n",
    "\n",
    "trainer = Trainer(\n",
    "    model=scaled_model,\n",
    "    args=training_args,\n",
    "    data_collator=collate_fn,\n",
    "    compute_metrics=compute_metrics,\n",
    "    train_dataset=prepared_ds[\"train\"],\n",
    "    eval_dataset=prepared_ds[\"validation\"],\n",
    "    # tokenizer=processor,\n",
    ")\n",
    "\n"
   ]
  },
  {
   "cell_type": "code",
   "execution_count": 11,
   "id": "608749cc-617f-4542-9d5b-7244340de907",
   "metadata": {
    "tags": []
   },
   "outputs": [
    {
     "name": "stderr",
     "output_type": "stream",
     "text": [
      "100%|██████████| 1250/1250 [07:51<00:00,  2.65it/s]\n"
     ]
    }
   ],
   "source": [
    "metrics = trainer.evaluate()"
   ]
  },
  {
   "cell_type": "markdown",
   "id": "b202b7dd",
   "metadata": {},
   "source": [
    "We get **97.60%** accuracy from the scaled FM, **without further training**!"
   ]
  },
  {
   "cell_type": "code",
   "execution_count": 12,
   "id": "5df36eff-5c2c-4095-a4ac-ef4a3a6cf62b",
   "metadata": {},
   "outputs": [
    {
     "name": "stdout",
     "output_type": "stream",
     "text": [
      "***** eval metrics *****\n",
      "  eval_accuracy           =      0.976\n",
      "  eval_loss               =     0.0787\n",
      "  eval_runtime            = 0:07:52.35\n",
      "  eval_samples_per_second =     21.171\n",
      "  eval_steps_per_second   =      2.646\n"
     ]
    }
   ],
   "source": [
    "trainer.log_metrics(\"eval\", metrics)\n",
    "trainer.save_metrics(\"eval\", metrics)"
   ]
  },
  {
   "cell_type": "markdown",
   "id": "10d9dcf0",
   "metadata": {},
   "source": [
    "## Sample another scaled FMs and evaluation\n",
    "You can sample as much as possible scaled from RaFFM model"
   ]
  },
  {
   "cell_type": "code",
   "execution_count": 13,
   "id": "9832265e-5362-4d8d-bf7f-37ccc6053593",
   "metadata": {
    "tags": []
   },
   "outputs": [
    {
     "name": "stdout",
     "output_type": "stream",
     "text": [
      "scaled model params 75.917568\n"
     ]
    }
   ],
   "source": [
    "scaled_model,_,_ = raffm_model.random_resource_aware_model()\n",
    "\n",
    "params = calculate_params(scaled_model)\n",
    "print(\"scaled model params\",params)"
   ]
  },
  {
   "cell_type": "code",
   "execution_count": 14,
   "id": "d1941ac0",
   "metadata": {},
   "outputs": [
    {
     "name": "stderr",
     "output_type": "stream",
     "text": [
      "100%|██████████| 1250/1250 [07:32<00:00,  2.76it/s]\n"
     ]
    }
   ],
   "source": [
    "\n",
    "trainer = Trainer(\n",
    "    model=scaled_model,\n",
    "    args=training_args,\n",
    "    data_collator=collate_fn,\n",
    "    compute_metrics=compute_metrics,\n",
    "    train_dataset=prepared_ds[\"train\"],\n",
    "    eval_dataset=prepared_ds[\"validation\"],\n",
    "    # tokenizer=processor,\n",
    ")\n",
    "metrics = trainer.evaluate()\n"
   ]
  },
  {
   "cell_type": "markdown",
   "id": "4aaa5929",
   "metadata": {},
   "source": [
    "In the second scaled FM we get **97.58%** Accuracy."
   ]
  },
  {
   "cell_type": "code",
   "execution_count": 15,
   "id": "a642cbb8",
   "metadata": {},
   "outputs": [
    {
     "name": "stdout",
     "output_type": "stream",
     "text": [
      "***** eval metrics *****\n",
      "  eval_accuracy           =     0.9758\n",
      "  eval_loss               =     0.0788\n",
      "  eval_runtime            = 0:07:33.11\n",
      "  eval_samples_per_second =     22.069\n",
      "  eval_steps_per_second   =      2.759\n"
     ]
    }
   ],
   "source": [
    "trainer.log_metrics(\"eval\", metrics)\n",
    "trainer.save_metrics(\"eval\", metrics)"
   ]
  },
  {
   "cell_type": "code",
   "execution_count": null,
   "metadata": {},
   "outputs": [],
   "source": []
  }
 ],
 "metadata": {
  "kernelspec": {
   "display_name": "fedlib",
   "language": "python",
   "name": "python3"
  },
  "language_info": {
   "codemirror_mode": {
    "name": "ipython",
    "version": 3
   },
   "file_extension": ".py",
   "mimetype": "text/x-python",
   "name": "python",
   "nbconvert_exporter": "python",
   "pygments_lexer": "ipython3",
   "version": "3.10.13"
  }
 },
 "nbformat": 4,
 "nbformat_minor": 5
}
