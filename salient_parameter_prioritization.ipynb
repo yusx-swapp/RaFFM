{
 "cells": [
  {
   "cell_type": "markdown",
   "metadata": {},
   "source": [
    "# Salient Parameter Prioritization (SPP)\n",
    "## Experiment Goal\n",
    "\n",
    "In this experiment we show:\n",
    "\n",
    "- **The novelty and nessisity of RaFFM's specialized SPP**\n",
    "- **RaFFM SPP preserves the pre-trained knowledge in FMs**\n",
    "- **Comparison with Standard Pruning-Based Weights Ranking**"
   ]
  },
  {
   "cell_type": "code",
   "execution_count": null,
   "metadata": {},
   "outputs": [],
   "source": []
  },
  {
   "cell_type": "code",
   "execution_count": null,
   "metadata": {},
   "outputs": [],
   "source": []
  }
 ],
 "metadata": {
  "language_info": {
   "name": "python"
  }
 },
 "nbformat": 4,
 "nbformat_minor": 2
}
