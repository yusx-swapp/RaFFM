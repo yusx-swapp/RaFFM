{
 "cells": [
  {
   "cell_type": "markdown",
   "id": "85a7b09f",
   "metadata": {},
   "source": [
    "# RaFFM – Foundation Model Scaling for Post-training Deployment\n",
    "This is the tutorial for Generate high-performance scaled FMs for heterogeneous resource local clients.\n",
    "\n",
    "In this tutorial, we will show you how to generate scaled ViT for image classification use our pre-trained RaFFM checkpoints.\n",
    "\n",
    "**[Note from author] I run this experiments on Macbook Air with M2 chip**"
   ]
  },
  {
   "cell_type": "code",
   "execution_count": 1,
   "id": "deebb429",
   "metadata": {},
   "outputs": [
    {
     "name": "stderr",
     "output_type": "stream",
     "text": [
      "/Users/sixingyu/miniconda3/envs/fedlib/lib/python3.10/site-packages/tqdm/auto.py:21: TqdmWarning: IProgress not found. Please update jupyter and ipywidgets. See https://ipywidgets.readthedocs.io/en/stable/user_install.html\n",
      "  from .autonotebook import tqdm as notebook_tqdm\n"
     ]
    }
   ],
   "source": [
    "import numpy as np\n",
    "from datasets import load_metric\n",
    "from transformers import ViTImageProcessor, ViTForImageClassification, TrainingArguments, Trainer\n",
    "from datasets import load_dataset\n",
    "from raffm import RaFFM\n",
    "import torch\n"
   ]
  },
  {
   "cell_type": "markdown",
   "id": "dc5218ee",
   "metadata": {},
   "source": [
    "## 1. Download RaFFM checkpoints\n",
    "You can download it from here:\n",
    "\n",
    "\n",
    "or you can train you own"
   ]
  },
  {
   "cell_type": "markdown",
   "id": "c35d7cee",
   "metadata": {},
   "source": [
    "## Load dataset and pre-process"
   ]
  },
  {
   "cell_type": "code",
   "execution_count": 2,
   "id": "02d9f03d",
   "metadata": {},
   "outputs": [],
   "source": [
    "dataset = load_dataset('cifar10')"
   ]
  },
  {
   "cell_type": "code",
   "execution_count": 3,
   "id": "549e0e3c",
   "metadata": {},
   "outputs": [],
   "source": [
    "processor = ViTImageProcessor.from_pretrained(\"google/vit-base-patch16-224\")\n",
    "\n",
    "def collate_fn(batch):\n",
    "    return {\n",
    "        'pixel_values': torch.stack([x['pixel_values'] for x in batch]),\n",
    "        'labels': torch.tensor([x['labels'] for x in batch])\n",
    "    }\n",
    "    \n",
    "def transform(example_batch):\n",
    "    # Take a list of PIL images and turn them to pixel values\n",
    "    inputs = processor([x for x in example_batch['img']], return_tensors='pt')\n",
    "\n",
    "    # Don't forget to include the labels!\n",
    "    inputs['labels'] = example_batch['label']\n",
    "    return inputs\n",
    "\n",
    "train_val = dataset[\"train\"].train_test_split(test_size=0.2)\n",
    "train_val\n",
    "\n",
    "dataset['train'] = train_val[\"train\"]\n",
    "dataset[\"validation\"] = train_val[\"test\"]\n",
    "\n",
    "prepared_ds = dataset.with_transform(transform)\n"
   ]
  },
  {
   "cell_type": "code",
   "execution_count": 9,
   "id": "422f8a85",
   "metadata": {},
   "outputs": [
    {
     "data": {
      "text/plain": [
       "DatasetDict({\n",
       "    train: Dataset({\n",
       "        features: ['img', 'label'],\n",
       "        num_rows: 40000\n",
       "    })\n",
       "    test: Dataset({\n",
       "        features: ['img', 'label'],\n",
       "        num_rows: 10000\n",
       "    })\n",
       "    validation: Dataset({\n",
       "        features: ['img', 'label'],\n",
       "        num_rows: 10000\n",
       "    })\n",
       "})"
      ]
     },
     "execution_count": 9,
     "metadata": {},
     "output_type": "execute_result"
    }
   ],
   "source": [
    "prepared_ds"
   ]
  },
  {
   "cell_type": "markdown",
   "id": "b4c53e41",
   "metadata": {},
   "source": [
    "## Load scalable FM from RaFFM checkpoint"
   ]
  },
  {
   "cell_type": "code",
   "execution_count": 4,
   "id": "f5f9412c",
   "metadata": {},
   "outputs": [],
   "source": [
    "ckpt_path = 'ckpt/cifar10'\n",
    "labels = dataset['train'].features['label'].names\n",
    "\n",
    "model = ViTForImageClassification.from_pretrained(\n",
    "    ckpt_path,\n",
    "    num_labels=len(labels),\n",
    "    id2label={str(i): c for i, c in enumerate(labels)},\n",
    "    label2id={c: str(i) for i, c in enumerate(labels)}\n",
    ")"
   ]
  },
  {
   "cell_type": "code",
   "execution_count": 5,
   "id": "4f4370c1",
   "metadata": {},
   "outputs": [
    {
     "name": "stdout",
     "output_type": "stream",
     "text": [
      "[Warning]: No elastic configuration provides. Set to the defalt elastic space {'atten_out_space': [768], 'inter_hidden_space': [3072, 3008, 2944, 2880, 2816, 2752, 2688, 2624, 2560, 2496, 2432, 2368, 2304, 2240, 2176, 2112, 2048, 1984, 1920, 1856], 'out_hidden_space': [768, 744, 720, 696, 672, 648, 624, 600, 576, 552]}.\n",
      "Original FM number of parameters: 85.55136\n"
     ]
    }
   ],
   "source": [
    "raffm_model = RaFFM(model.to(\"cpu\"))\n",
    "print(\"Original FM number of parameters:\",raffm_model.total_params)"
   ]
  },
  {
   "cell_type": "markdown",
   "id": "6f64b133",
   "metadata": {},
   "source": [
    "## Sample a scaled FM "
   ]
  },
  {
   "cell_type": "code",
   "execution_count": 6,
   "id": "e3e057bf",
   "metadata": {},
   "outputs": [
    {
     "name": "stdout",
     "output_type": "stream",
     "text": [
      "subnetwork params 72.673536\n"
     ]
    }
   ],
   "source": [
    "submodel,params,arc_config = raffm_model.random_resource_aware_model()\n",
    "\n",
    "print(\"subnetwork params\",params)"
   ]
  },
  {
   "cell_type": "markdown",
   "id": "b937850d",
   "metadata": {},
   "source": [
    "# Evaluate high-performance scaled FM"
   ]
  },
  {
   "cell_type": "code",
   "execution_count": 7,
   "id": "e6175920",
   "metadata": {},
   "outputs": [
    {
     "name": "stderr",
     "output_type": "stream",
     "text": [
      "/var/folders/zh/gvy12ppj68x8gylsv2b6yw400000gq/T/ipykernel_82767/4238580934.py:1: FutureWarning: load_metric is deprecated and will be removed in the next major version of datasets. Use 'evaluate.load' instead, from the new library 🤗 Evaluate: https://huggingface.co/docs/evaluate\n",
      "  metric = load_metric(\"accuracy\")\n"
     ]
    }
   ],
   "source": [
    "\n",
    "metric = load_metric(\"accuracy\")\n",
    "def compute_metrics(p):\n",
    "    return metric.compute(predictions=np.argmax(p.predictions, axis=1), references=p.label_ids)\n"
   ]
  },
  {
   "cell_type": "code",
   "execution_count": 8,
   "id": "288843d3",
   "metadata": {},
   "outputs": [],
   "source": [
    "training_args = TrainingArguments(\n",
    "  output_dir=\"./log/debug\",\n",
    "  per_device_train_batch_size=16,\n",
    "  evaluation_strategy=\"steps\",\n",
    "  num_train_epochs=4,\n",
    "  save_steps=100,\n",
    "  eval_steps=100,\n",
    "  logging_steps=10,\n",
    "  learning_rate=2e-4,\n",
    "  save_total_limit=2,\n",
    "  remove_unused_columns=False,\n",
    "  push_to_hub=False,\n",
    "  report_to='tensorboard',\n",
    "  load_best_model_at_end=True,\n",
    ")\n",
    "\n",
    "trainer = Trainer(\n",
    "    model=submodel,\n",
    "    args=training_args,\n",
    "    data_collator=collate_fn,\n",
    "    compute_metrics=compute_metrics,\n",
    "    train_dataset=prepared_ds[\"train\"],\n",
    "    eval_dataset=prepared_ds[\"validation\"],\n",
    "    # tokenizer=processor,\n",
    ")\n",
    "\n"
   ]
  },
  {
   "cell_type": "code",
   "execution_count": 10,
   "id": "608749cc-617f-4542-9d5b-7244340de907",
   "metadata": {
    "tags": []
   },
   "outputs": [
    {
     "name": "stderr",
     "output_type": "stream",
     "text": [
      "100%|██████████| 1250/1250 [04:48<00:00,  4.33it/s]\n"
     ]
    }
   ],
   "source": [
    "metrics = trainer.evaluate()\n"
   ]
  },
  {
   "cell_type": "markdown",
   "id": "b202b7dd",
   "metadata": {},
   "source": [
    "We get **97.52%** accuracy from the scaled FM!"
   ]
  },
  {
   "cell_type": "code",
   "execution_count": 11,
   "id": "5df36eff-5c2c-4095-a4ac-ef4a3a6cf62b",
   "metadata": {},
   "outputs": [
    {
     "name": "stdout",
     "output_type": "stream",
     "text": [
      "***** eval metrics *****\n",
      "  eval_accuracy           =     0.9752\n",
      "  eval_loss               =     0.0863\n",
      "  eval_runtime            = 0:04:49.50\n",
      "  eval_samples_per_second =     34.542\n",
      "  eval_steps_per_second   =      4.318\n"
     ]
    }
   ],
   "source": [
    "trainer.log_metrics(\"eval\", metrics)\n",
    "trainer.save_metrics(\"eval\", metrics)"
   ]
  },
  {
   "cell_type": "markdown",
   "id": "10d9dcf0",
   "metadata": {},
   "source": [
    "## Sample another scaled FMs and evaluation\n",
    "You can sample as much as possible scaled from RaFFM model"
   ]
  },
  {
   "cell_type": "code",
   "execution_count": 12,
   "id": "9832265e-5362-4d8d-bf7f-37ccc6053593",
   "metadata": {
    "tags": []
   },
   "outputs": [
    {
     "name": "stdout",
     "output_type": "stream",
     "text": [
      "subnetwork params 75.72096\n"
     ]
    }
   ],
   "source": [
    "submodel,params,arc_config = raffm_model.random_resource_aware_model()\n",
    "\n",
    "print(\"subnetwork params\",params)"
   ]
  },
  {
   "cell_type": "code",
   "execution_count": 13,
   "id": "d1941ac0",
   "metadata": {},
   "outputs": [
    {
     "name": "stderr",
     "output_type": "stream",
     "text": [
      "100%|██████████| 1250/1250 [04:26<00:00,  4.69it/s]\n"
     ]
    }
   ],
   "source": [
    "\n",
    "trainer = Trainer(\n",
    "    model=submodel,\n",
    "    args=training_args,\n",
    "    data_collator=collate_fn,\n",
    "    compute_metrics=compute_metrics,\n",
    "    train_dataset=prepared_ds[\"train\"],\n",
    "    eval_dataset=prepared_ds[\"validation\"],\n",
    "    # tokenizer=processor,\n",
    ")\n",
    "metrics = trainer.evaluate()\n"
   ]
  },
  {
   "cell_type": "markdown",
   "id": "4aaa5929",
   "metadata": {},
   "source": [
    "In the second scaled FM we get **97.6%** Accuracy."
   ]
  },
  {
   "cell_type": "code",
   "execution_count": 14,
   "id": "a642cbb8",
   "metadata": {},
   "outputs": [
    {
     "name": "stdout",
     "output_type": "stream",
     "text": [
      "***** eval metrics *****\n",
      "  eval_accuracy           =      0.976\n",
      "  eval_loss               =      0.085\n",
      "  eval_runtime            = 0:04:26.80\n",
      "  eval_samples_per_second =     37.481\n",
      "  eval_steps_per_second   =      4.685\n"
     ]
    }
   ],
   "source": [
    "trainer.log_metrics(\"eval\", metrics)\n",
    "trainer.save_metrics(\"eval\", metrics)"
   ]
  }
 ],
 "metadata": {
  "kernelspec": {
   "display_name": "fedlib",
   "language": "python",
   "name": "python3"
  },
  "language_info": {
   "codemirror_mode": {
    "name": "ipython",
    "version": 3
   },
   "file_extension": ".py",
   "mimetype": "text/x-python",
   "name": "python",
   "nbconvert_exporter": "python",
   "pygments_lexer": "ipython3",
   "version": "3.10.13"
  }
 },
 "nbformat": 4,
 "nbformat_minor": 5
}
